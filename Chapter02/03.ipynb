{
 "cells": [
  {
   "cell_type": "code",
   "execution_count": 2,
   "metadata": {},
   "outputs": [],
   "source": [
    "import numpy as np \n",
    "import pandas as pd \n",
    "import matplotlib.pyplot as plt \n",
    "import os \n",
    "import sklearn \n",
    "\n",
    "from sklearn.model_selection import train_test_split, StratifiedShuffleSplit \n",
    "from sklearn.preprocessing import OneHotEncoder, OrdinalEncoder, StandardScaler \n",
    "from sklearn.pipeline import Pipeline \n",
    "from sklearn.compose import ColumnTransformer\n",
    "from sklearn.base import BaseEstimator, TransformerMixin \n",
    "from sklearn.impute import SimpleImputer"
   ]
  },
  {
   "attachments": {},
   "cell_type": "markdown",
   "metadata": {},
   "source": [
    "##### 01.Load the Data "
   ]
  },
  {
   "cell_type": "code",
   "execution_count": 3,
   "metadata": {},
   "outputs": [],
   "source": [
    "df_housing = pd.read_csv(\"E:\\\\workSpace_Dataset\\\\Hands_On_MachineLearning\\\\housing\\\\housing.csv\")"
   ]
  },
  {
   "attachments": {},
   "cell_type": "markdown",
   "metadata": {},
   "source": [
    "#### 02.Split train test "
   ]
  },
  {
   "cell_type": "code",
   "execution_count": 5,
   "metadata": {},
   "outputs": [],
   "source": [
    "df_housing[\"income_cat\"] = pd.cut(df_housing[\"median_income\"], \n",
    "                                  bins=[0., 1.5, 3.0, 4.5, 6., np.inf], \n",
    "                                  labels = [1, 2, 3, 4, 5])"
   ]
  },
  {
   "cell_type": "code",
   "execution_count": 6,
   "metadata": {},
   "outputs": [],
   "source": [
    "split = StratifiedShuffleSplit(n_splits=1, test_size=0.2, random_state=42)\n",
    "\n",
    "for train_idx, test_idx in split.split(df_housing, df_housing[\"income_cat\"]):\n",
    "    strat_train_set = df_housing.loc[train_idx]\n",
    "    strat_test_set = df_housing.loc[test_idx] \n",
    "                                     "
   ]
  },
  {
   "cell_type": "code",
   "execution_count": 7,
   "metadata": {},
   "outputs": [],
   "source": [
    "for set_ in (strat_train_set, strat_test_set):\n",
    "    set_.drop(\"income_cat\", axis=1, inplace=True)"
   ]
  },
  {
   "cell_type": "code",
   "execution_count": 8,
   "metadata": {},
   "outputs": [],
   "source": [
    "df_housing = strat_train_set.drop(\"median_house_value\", axis=1)\n",
    "df_housing_labels = strat_train_set[\"median_house_value\"].copy()"
   ]
  },
  {
   "cell_type": "code",
   "execution_count": 9,
   "metadata": {},
   "outputs": [
    {
     "name": "stdout",
     "output_type": "stream",
     "text": [
      "<class 'pandas.core.frame.DataFrame'>\n",
      "Int64Index: 16512 entries, 12655 to 19773\n",
      "Data columns (total 9 columns):\n",
      " #   Column              Non-Null Count  Dtype  \n",
      "---  ------              --------------  -----  \n",
      " 0   longitude           16512 non-null  float64\n",
      " 1   latitude            16512 non-null  float64\n",
      " 2   housing_median_age  16512 non-null  float64\n",
      " 3   total_rooms         16512 non-null  float64\n",
      " 4   total_bedrooms      16354 non-null  float64\n",
      " 5   population          16512 non-null  float64\n",
      " 6   households          16512 non-null  float64\n",
      " 7   median_income       16512 non-null  float64\n",
      " 8   ocean_proximity     16512 non-null  object \n",
      "dtypes: float64(8), object(1)\n",
      "memory usage: 1.3+ MB\n"
     ]
    }
   ],
   "source": [
    "df_housing.info()"
   ]
  },
  {
   "cell_type": "code",
   "execution_count": 10,
   "metadata": {},
   "outputs": [
    {
     "name": "stdout",
     "output_type": "stream",
     "text": [
      "<class 'pandas.core.series.Series'>\n",
      "Int64Index: 16512 entries, 12655 to 19773\n",
      "Series name: median_house_value\n",
      "Non-Null Count  Dtype  \n",
      "--------------  -----  \n",
      "16512 non-null  float64\n",
      "dtypes: float64(1)\n",
      "memory usage: 258.0 KB\n"
     ]
    }
   ],
   "source": [
    "df_housing_labels.info()"
   ]
  },
  {
   "attachments": {},
   "cell_type": "markdown",
   "metadata": {},
   "source": [
    "##### 03.Preprocessing "
   ]
  },
  {
   "cell_type": "code",
   "execution_count": 13,
   "metadata": {},
   "outputs": [],
   "source": [
    "df_housing_num = df_housing.drop(\"ocean_proximity\", axis=1)"
   ]
  },
  {
   "cell_type": "code",
   "execution_count": 14,
   "metadata": {},
   "outputs": [
    {
     "data": {
      "text/plain": [
       "array([[-121.46, 38.52, 29.0, ..., 'INLAND', 5.485835694050992,\n",
       "        3.168555240793201],\n",
       "       [-117.23, 33.09, 7.0, ..., 'NEAR OCEAN', 6.927083333333333,\n",
       "        2.6236979166666665],\n",
       "       [-119.04, 35.37, 44.0, ..., 'INLAND', 5.3933333333333335,\n",
       "        2.223333333333333],\n",
       "       ...,\n",
       "       [-122.72, 38.44, 48.0, ..., '<1H OCEAN', 4.1104651162790695,\n",
       "        2.6627906976744184],\n",
       "       [-122.7, 38.31, 14.0, ..., '<1H OCEAN', 6.297405189620759,\n",
       "        2.411177644710579],\n",
       "       [-122.14, 39.97, 27.0, ..., 'INLAND', 5.477157360406092,\n",
       "        3.1725888324873095]], dtype=object)"
      ]
     },
     "execution_count": 14,
     "metadata": {},
     "output_type": "execute_result"
    }
   ],
   "source": [
    "from sklearn.base import BaseEstimator, TransformerMixin \n",
    "\n",
    "rooms_ix, bedrooms_ix, population_ix, households_ix = 3, 4, 5, 6 \n",
    "\n",
    "class CombinedAttributesAdder(BaseEstimator, TransformerMixin):\n",
    "    def __init__(self, add_bedrooms_per_room=True): \n",
    "        self.add_bedrooms_per_room = add_bedrooms_per_room\n",
    "    \n",
    "    def fit(self, X, y=None):\n",
    "        return self  \n",
    "    \n",
    "    def transform(self, X):\n",
    "        rooms_per_household = X[:, rooms_ix] / X[:, households_ix]\n",
    "        population_per_household = X[:, population_ix] / X[:, households_ix]\n",
    "        if self.add_bedrooms_per_room:\n",
    "            bedrooms_per_room = X[:, bedrooms_ix] / X[:, rooms_ix]\n",
    "            return np.c_[X, rooms_per_household, population_per_household,\n",
    "                         bedrooms_per_room]\n",
    "        else:\n",
    "            return np.c_[X, rooms_per_household, population_per_household]\n",
    "\n",
    "attr_adder = CombinedAttributesAdder(add_bedrooms_per_room=False)\n",
    "housing_extra_attribs = attr_adder.transform(df_housing.to_numpy())\n",
    "housing_extra_attribs"
   ]
  },
  {
   "cell_type": "code",
   "execution_count": 15,
   "metadata": {},
   "outputs": [
    {
     "data": {
      "text/plain": [
       "array([[-0.94135046,  1.34743822,  0.02756357, ...,  0.01739526,\n",
       "         0.00622264, -0.12112176],\n",
       "       [ 1.17178212, -1.19243966, -1.72201763, ...,  0.56925554,\n",
       "        -0.04081077, -0.81086696],\n",
       "       [ 0.26758118, -0.1259716 ,  1.22045984, ..., -0.01802432,\n",
       "        -0.07537122, -0.33827252],\n",
       "       ...,\n",
       "       [-1.5707942 ,  1.31001828,  1.53856552, ..., -0.5092404 ,\n",
       "        -0.03743619,  0.32286937],\n",
       "       [-1.56080303,  1.2492109 , -1.1653327 , ...,  0.32814891,\n",
       "        -0.05915604, -0.45702273],\n",
       "       [-1.28105026,  2.02567448, -0.13148926, ...,  0.01407228,\n",
       "         0.00657083, -0.12169672]])"
      ]
     },
     "execution_count": 15,
     "metadata": {},
     "output_type": "execute_result"
    }
   ],
   "source": [
    "from sklearn.pipeline import Pipeline \n",
    "from sklearn.preprocessing import StandardScaler \n",
    "\n",
    "num_pipeline = Pipeline([\n",
    "    (\"imputer\", SimpleImputer(strategy=\"median\")),\n",
    "    (\"attribs_adder\", CombinedAttributesAdder()), \n",
    "    (\"std_scaler\", StandardScaler())\n",
    "])\n",
    "housing_num_tr = num_pipeline.fit_transform(df_housing_num)\n",
    "housing_num_tr"
   ]
  },
  {
   "cell_type": "code",
   "execution_count": 16,
   "metadata": {},
   "outputs": [],
   "source": [
    "from sklearn.compose import ColumnTransformer\n",
    "num_attribs = list(df_housing_num)\n",
    "cat_attribs = [\"ocean_proximity\"]\n",
    "\n",
    "full_pipeline = ColumnTransformer([\n",
    "    (\"num\", num_pipeline, num_attribs),\n",
    "    (\"cat\", OneHotEncoder(), cat_attribs),\n",
    "])\n",
    "\n",
    "housing_prepared = full_pipeline.fit_transform(df_housing)"
   ]
  },
  {
   "cell_type": "code",
   "execution_count": 18,
   "metadata": {},
   "outputs": [
    {
     "data": {
      "text/plain": [
       "(16512, 16)"
      ]
     },
     "execution_count": 18,
     "metadata": {},
     "output_type": "execute_result"
    }
   ],
   "source": [
    "housing_prepared.shape"
   ]
  },
  {
   "attachments": {},
   "cell_type": "markdown",
   "metadata": {},
   "source": [
    "#### 04.Select and Train a Model"
   ]
  },
  {
   "cell_type": "code",
   "execution_count": 19,
   "metadata": {},
   "outputs": [],
   "source": [
    "from sklearn.linear_model import LinearRegression"
   ]
  },
  {
   "cell_type": "code",
   "execution_count": 20,
   "metadata": {},
   "outputs": [
    {
     "data": {
      "text/plain": [
       "LinearRegression()"
      ]
     },
     "execution_count": 20,
     "metadata": {},
     "output_type": "execute_result"
    }
   ],
   "source": [
    "lin_reg = LinearRegression()\n",
    "lin_reg.fit(housing_prepared, df_housing_labels)\n"
   ]
  },
  {
   "cell_type": "code",
   "execution_count": 23,
   "metadata": {},
   "outputs": [
    {
     "name": "stdout",
     "output_type": "stream",
     "text": [
      "Predict : [ 85657.90192014 305492.60737488 152056.46122456 186095.70946094\n",
      " 244550.67966089]\n"
     ]
    }
   ],
   "source": [
    "some_data = df_housing[:5]\n",
    "some_labels = df_housing_labels.iloc[:5]\n",
    "some_data_prepared = full_pipeline.transform(some_data)\n",
    "print(\"Predict :\", lin_reg.predict(some_data_prepared))"
   ]
  },
  {
   "cell_type": "code",
   "execution_count": 24,
   "metadata": {},
   "outputs": [
    {
     "name": "stdout",
     "output_type": "stream",
     "text": [
      "Labels: [72100.0, 279600.0, 82700.0, 112500.0, 238300.0]\n"
     ]
    }
   ],
   "source": [
    "print(\"Labels:\",list(some_labels))"
   ]
  },
  {
   "cell_type": "code",
   "execution_count": 25,
   "metadata": {},
   "outputs": [
    {
     "data": {
      "text/plain": [
       "array([[-0.94135046,  1.34743822,  0.02756357,  0.58477745,  0.64037127,\n",
       "         0.73260236,  0.55628602, -0.8936472 ,  0.01739526,  0.00622264,\n",
       "        -0.12112176,  0.        ,  1.        ,  0.        ,  0.        ,\n",
       "         0.        ],\n",
       "       [ 1.17178212, -1.19243966, -1.72201763,  1.26146668,  0.78156132,\n",
       "         0.53361152,  0.72131799,  1.292168  ,  0.56925554, -0.04081077,\n",
       "        -0.81086696,  0.        ,  0.        ,  0.        ,  0.        ,\n",
       "         1.        ],\n",
       "       [ 0.26758118, -0.1259716 ,  1.22045984, -0.46977281, -0.54513828,\n",
       "        -0.67467519, -0.52440722, -0.52543365, -0.01802432, -0.07537122,\n",
       "        -0.33827252,  0.        ,  1.        ,  0.        ,  0.        ,\n",
       "         0.        ],\n",
       "       [ 1.22173797, -1.35147437, -0.37006852, -0.34865152, -0.03636724,\n",
       "        -0.46761716, -0.03729672, -0.86592882, -0.59513997, -0.10680295,\n",
       "         0.96120521,  0.        ,  0.        ,  0.        ,  0.        ,\n",
       "         1.        ],\n",
       "       [ 0.43743108, -0.63581817, -0.13148926,  0.42717947,  0.27279028,\n",
       "         0.37406031,  0.22089846,  0.32575178,  0.2512412 ,  0.00610923,\n",
       "        -0.47451338,  1.        ,  0.        ,  0.        ,  0.        ,\n",
       "         0.        ]])"
      ]
     },
     "execution_count": 25,
     "metadata": {},
     "output_type": "execute_result"
    }
   ],
   "source": [
    "some_data_prepared"
   ]
  },
  {
   "cell_type": "code",
   "execution_count": 27,
   "metadata": {},
   "outputs": [
    {
     "data": {
      "text/plain": [
       "68627.87390018745"
      ]
     },
     "execution_count": 27,
     "metadata": {},
     "output_type": "execute_result"
    }
   ],
   "source": [
    "from sklearn.metrics import mean_squared_error \n",
    "\n",
    "housing_predictions = lin_reg.predict(housing_prepared)\n",
    "lin_mse = mean_squared_error(df_housing_labels, housing_predictions)\n",
    "lin_rmse  =np.sqrt(lin_mse)\n",
    "lin_rmse"
   ]
  },
  {
   "cell_type": "code",
   "execution_count": 30,
   "metadata": {},
   "outputs": [
    {
     "data": {
      "text/plain": [
       "49438.66860915801"
      ]
     },
     "execution_count": 30,
     "metadata": {},
     "output_type": "execute_result"
    }
   ],
   "source": [
    "from sklearn.metrics import mean_absolute_error \n",
    "lin_mae = mean_absolute_error(df_housing_labels, housing_predictions)\n",
    "lin_mae"
   ]
  },
  {
   "cell_type": "code",
   "execution_count": 32,
   "metadata": {},
   "outputs": [
    {
     "data": {
      "text/plain": [
       "DecisionTreeRegressor(random_state=42)"
      ]
     },
     "execution_count": 32,
     "metadata": {},
     "output_type": "execute_result"
    }
   ],
   "source": [
    "from sklearn.tree import DecisionTreeRegressor \n",
    "\n",
    "tree_reg = DecisionTreeRegressor(random_state=42)\n",
    "tree_reg.fit(housing_prepared, df_housing_labels)\n"
   ]
  },
  {
   "cell_type": "code",
   "execution_count": 33,
   "metadata": {},
   "outputs": [
    {
     "data": {
      "text/plain": [
       "0.0"
      ]
     },
     "execution_count": 33,
     "metadata": {},
     "output_type": "execute_result"
    }
   ],
   "source": [
    "housing_predictions = tree_reg.predict(housing_prepared)\n",
    "tree_mse = mean_squared_error(df_housing_labels, housing_predictions)\n",
    "tree_rmse = np.sqrt(tree_mse)\n",
    "tree_rmse"
   ]
  },
  {
   "cell_type": "code",
   "execution_count": 34,
   "metadata": {},
   "outputs": [],
   "source": [
    "from sklearn.model_selection import cross_val_score\n",
    "\n",
    "scores = cross_val_score(tree_reg, housing_prepared, df_housing_labels,\n",
    "                         scoring=\"neg_mean_squared_error\", cv=10)\n",
    "tree_rmse_scores = np.sqrt(-scores)"
   ]
  },
  {
   "cell_type": "code",
   "execution_count": 35,
   "metadata": {},
   "outputs": [
    {
     "name": "stdout",
     "output_type": "stream",
     "text": [
      "점수: [72831.45749112 69973.18438322 69528.56551415 72517.78229792\n",
      " 69145.50006909 79094.74123727 68960.045444   73344.50225684\n",
      " 69826.02473916 71077.09753998]\n",
      "평균: 71629.89009727491\n",
      "표준 편차: 2914.035468468928\n"
     ]
    }
   ],
   "source": [
    "def display_scores(scores):\n",
    "    print(\"점수:\", scores)\n",
    "    print(\"평균:\", scores.mean())\n",
    "    print(\"표준 편차:\", scores.std())\n",
    "\n",
    "display_scores(tree_rmse_scores)"
   ]
  },
  {
   "cell_type": "code",
   "execution_count": 37,
   "metadata": {},
   "outputs": [
    {
     "name": "stdout",
     "output_type": "stream",
     "text": [
      "점수: [71762.76364394 64114.99166359 67771.17124356 68635.19072082\n",
      " 66846.14089488 72528.03725385 73997.08050233 68802.33629334\n",
      " 66443.28836884 70139.79923956]\n",
      "평균: 69104.07998247063\n",
      "표준 편차: 2880.3282098180675\n"
     ]
    }
   ],
   "source": [
    "lin_scores = cross_val_score(lin_reg, housing_prepared, df_housing_labels,\n",
    "                             scoring=\"neg_mean_squared_error\", cv=10)\n",
    "lin_rmse_scores = np.sqrt(-lin_scores)\n",
    "display_scores(lin_rmse_scores)"
   ]
  },
  {
   "cell_type": "code",
   "execution_count": 38,
   "metadata": {},
   "outputs": [
    {
     "data": {
      "text/plain": [
       "RandomForestRegressor(random_state=42)"
      ]
     },
     "execution_count": 38,
     "metadata": {},
     "output_type": "execute_result"
    }
   ],
   "source": [
    "from sklearn.ensemble import RandomForestRegressor\n",
    "\n",
    "forest_reg = RandomForestRegressor(n_estimators=100, random_state=42)\n",
    "forest_reg.fit(housing_prepared, df_housing_labels)\n"
   ]
  },
  {
   "cell_type": "code",
   "execution_count": 39,
   "metadata": {},
   "outputs": [
    {
     "data": {
      "text/plain": [
       "18650.698705770003"
      ]
     },
     "execution_count": 39,
     "metadata": {},
     "output_type": "execute_result"
    }
   ],
   "source": [
    "housing_predictions = forest_reg.predict(housing_prepared)\n",
    "forest_mse = mean_squared_error(df_housing_labels, housing_predictions)\n",
    "forest_rmse = np.sqrt(forest_mse)\n",
    "forest_rmse"
   ]
  },
  {
   "cell_type": "code",
   "execution_count": 40,
   "metadata": {},
   "outputs": [
    {
     "name": "stdout",
     "output_type": "stream",
     "text": [
      "점수: [51559.63379638 48737.57100062 47210.51269766 51875.21247297\n",
      " 47577.50470123 51863.27467888 52746.34645573 50065.1762751\n",
      " 48664.66818196 54055.90894609]\n",
      "평균: 50435.58092066179\n",
      "표준 편차: 2203.3381412764606\n"
     ]
    }
   ],
   "source": [
    "from sklearn.model_selection import cross_val_score\n",
    "\n",
    "forest_scores = cross_val_score(forest_reg, housing_prepared, df_housing_labels,\n",
    "                                scoring=\"neg_mean_squared_error\", cv=10)\n",
    "forest_rmse_scores = np.sqrt(-forest_scores)\n",
    "display_scores(forest_rmse_scores)"
   ]
  },
  {
   "cell_type": "code",
   "execution_count": 42,
   "metadata": {},
   "outputs": [
    {
     "data": {
      "text/plain": [
       "count       10.000000\n",
       "mean     69104.079982\n",
       "std       3036.132517\n",
       "min      64114.991664\n",
       "25%      67077.398482\n",
       "50%      68718.763507\n",
       "75%      71357.022543\n",
       "max      73997.080502\n",
       "dtype: float64"
      ]
     },
     "execution_count": 42,
     "metadata": {},
     "output_type": "execute_result"
    }
   ],
   "source": [
    "scores = cross_val_score(lin_reg, housing_prepared, df_housing_labels, scoring=\"neg_mean_squared_error\", cv=10)\n",
    "pd.Series(np.sqrt(-scores)).describe()"
   ]
  },
  {
   "cell_type": "code",
   "execution_count": 43,
   "metadata": {},
   "outputs": [
    {
     "data": {
      "text/plain": [
       "111095.06635291968"
      ]
     },
     "execution_count": 43,
     "metadata": {},
     "output_type": "execute_result"
    }
   ],
   "source": [
    "from sklearn.svm import SVR\n",
    "\n",
    "svm_reg = SVR(kernel=\"linear\")\n",
    "svm_reg.fit(housing_prepared, df_housing_labels)\n",
    "housing_predictions = svm_reg.predict(housing_prepared)\n",
    "svm_mse = mean_squared_error(df_housing_labels, housing_predictions)\n",
    "svm_rmse = np.sqrt(svm_mse)\n",
    "svm_rmse"
   ]
  },
  {
   "cell_type": "code",
   "execution_count": 44,
   "metadata": {},
   "outputs": [
    {
     "data": {
      "text/plain": [
       "GridSearchCV(cv=5, estimator=RandomForestRegressor(random_state=42),\n",
       "             param_grid=[{'max_features': [2, 4, 6, 8],\n",
       "                          'n_estimators': [3, 10, 30]},\n",
       "                         {'bootstrap': [False], 'max_features': [2, 3, 4],\n",
       "                          'n_estimators': [3, 10]}],\n",
       "             return_train_score=True, scoring='neg_mean_squared_error')"
      ]
     },
     "execution_count": 44,
     "metadata": {},
     "output_type": "execute_result"
    }
   ],
   "source": [
    "from sklearn.model_selection import GridSearchCV\n",
    "\n",
    "param_grid = [\n",
    "    {'n_estimators': [3, 10, 30], 'max_features': [2, 4, 6, 8]},\n",
    "    {'bootstrap': [False], 'n_estimators': [3, 10], 'max_features': [2, 3, 4]},\n",
    "  ]\n",
    "\n",
    "forest_reg = RandomForestRegressor(random_state=42)\n",
    "grid_search = GridSearchCV(forest_reg, param_grid, cv=5,\n",
    "                           scoring='neg_mean_squared_error',\n",
    "                           return_train_score=True)\n",
    "\n",
    "grid_search.fit(housing_prepared, df_housing_labels)"
   ]
  },
  {
   "cell_type": "code",
   "execution_count": 45,
   "metadata": {},
   "outputs": [
    {
     "data": {
      "text/plain": [
       "{'max_features': 8, 'n_estimators': 30}"
      ]
     },
     "execution_count": 45,
     "metadata": {},
     "output_type": "execute_result"
    }
   ],
   "source": [
    "grid_search.best_params_"
   ]
  },
  {
   "cell_type": "code",
   "execution_count": 46,
   "metadata": {},
   "outputs": [
    {
     "data": {
      "text/plain": [
       "RandomForestRegressor(max_features=8, n_estimators=30, random_state=42)"
      ]
     },
     "execution_count": 46,
     "metadata": {},
     "output_type": "execute_result"
    }
   ],
   "source": [
    "grid_search.best_estimator_"
   ]
  },
  {
   "cell_type": "code",
   "execution_count": 47,
   "metadata": {},
   "outputs": [
    {
     "name": "stdout",
     "output_type": "stream",
     "text": [
      "63895.161577951665 {'max_features': 2, 'n_estimators': 3}\n",
      "54916.32386349543 {'max_features': 2, 'n_estimators': 10}\n",
      "52885.86715332332 {'max_features': 2, 'n_estimators': 30}\n",
      "60075.3680329983 {'max_features': 4, 'n_estimators': 3}\n",
      "52495.01284985185 {'max_features': 4, 'n_estimators': 10}\n",
      "50187.24324926565 {'max_features': 4, 'n_estimators': 30}\n",
      "58064.73529982314 {'max_features': 6, 'n_estimators': 3}\n",
      "51519.32062366315 {'max_features': 6, 'n_estimators': 10}\n",
      "49969.80441627874 {'max_features': 6, 'n_estimators': 30}\n",
      "58895.824998155826 {'max_features': 8, 'n_estimators': 3}\n",
      "52459.79624724529 {'max_features': 8, 'n_estimators': 10}\n",
      "49898.98913455217 {'max_features': 8, 'n_estimators': 30}\n",
      "62381.765106921855 {'bootstrap': False, 'max_features': 2, 'n_estimators': 3}\n",
      "54476.57050944266 {'bootstrap': False, 'max_features': 2, 'n_estimators': 10}\n",
      "59974.60028085155 {'bootstrap': False, 'max_features': 3, 'n_estimators': 3}\n",
      "52754.5632813202 {'bootstrap': False, 'max_features': 3, 'n_estimators': 10}\n",
      "57831.136061214274 {'bootstrap': False, 'max_features': 4, 'n_estimators': 3}\n",
      "51278.37877140253 {'bootstrap': False, 'max_features': 4, 'n_estimators': 10}\n"
     ]
    }
   ],
   "source": [
    "cvres = grid_search.cv_results_\n",
    "for mean_score, params in zip(cvres[\"mean_test_score\"], cvres[\"params\"]):\n",
    "    print(np.sqrt(-mean_score), params)"
   ]
  },
  {
   "cell_type": "code",
   "execution_count": 48,
   "metadata": {},
   "outputs": [
    {
     "data": {
      "text/html": [
       "<div>\n",
       "<style scoped>\n",
       "    .dataframe tbody tr th:only-of-type {\n",
       "        vertical-align: middle;\n",
       "    }\n",
       "\n",
       "    .dataframe tbody tr th {\n",
       "        vertical-align: top;\n",
       "    }\n",
       "\n",
       "    .dataframe thead th {\n",
       "        text-align: right;\n",
       "    }\n",
       "</style>\n",
       "<table border=\"1\" class=\"dataframe\">\n",
       "  <thead>\n",
       "    <tr style=\"text-align: right;\">\n",
       "      <th></th>\n",
       "      <th>mean_fit_time</th>\n",
       "      <th>std_fit_time</th>\n",
       "      <th>mean_score_time</th>\n",
       "      <th>std_score_time</th>\n",
       "      <th>param_max_features</th>\n",
       "      <th>param_n_estimators</th>\n",
       "      <th>param_bootstrap</th>\n",
       "      <th>params</th>\n",
       "      <th>split0_test_score</th>\n",
       "      <th>split1_test_score</th>\n",
       "      <th>...</th>\n",
       "      <th>mean_test_score</th>\n",
       "      <th>std_test_score</th>\n",
       "      <th>rank_test_score</th>\n",
       "      <th>split0_train_score</th>\n",
       "      <th>split1_train_score</th>\n",
       "      <th>split2_train_score</th>\n",
       "      <th>split3_train_score</th>\n",
       "      <th>split4_train_score</th>\n",
       "      <th>mean_train_score</th>\n",
       "      <th>std_train_score</th>\n",
       "    </tr>\n",
       "  </thead>\n",
       "  <tbody>\n",
       "    <tr>\n",
       "      <th>0</th>\n",
       "      <td>0.086396</td>\n",
       "      <td>0.022200</td>\n",
       "      <td>0.004397</td>\n",
       "      <td>0.001484</td>\n",
       "      <td>2</td>\n",
       "      <td>3</td>\n",
       "      <td>NaN</td>\n",
       "      <td>{'max_features': 2, 'n_estimators': 3}</td>\n",
       "      <td>-4.119912e+09</td>\n",
       "      <td>-3.723465e+09</td>\n",
       "      <td>...</td>\n",
       "      <td>-4.082592e+09</td>\n",
       "      <td>1.867375e+08</td>\n",
       "      <td>18</td>\n",
       "      <td>-1.155630e+09</td>\n",
       "      <td>-1.089726e+09</td>\n",
       "      <td>-1.153843e+09</td>\n",
       "      <td>-1.118149e+09</td>\n",
       "      <td>-1.093446e+09</td>\n",
       "      <td>-1.122159e+09</td>\n",
       "      <td>2.834288e+07</td>\n",
       "    </tr>\n",
       "    <tr>\n",
       "      <th>1</th>\n",
       "      <td>0.222225</td>\n",
       "      <td>0.021227</td>\n",
       "      <td>0.009960</td>\n",
       "      <td>0.000877</td>\n",
       "      <td>2</td>\n",
       "      <td>10</td>\n",
       "      <td>NaN</td>\n",
       "      <td>{'max_features': 2, 'n_estimators': 10}</td>\n",
       "      <td>-2.973521e+09</td>\n",
       "      <td>-2.810319e+09</td>\n",
       "      <td>...</td>\n",
       "      <td>-3.015803e+09</td>\n",
       "      <td>1.139808e+08</td>\n",
       "      <td>11</td>\n",
       "      <td>-5.982947e+08</td>\n",
       "      <td>-5.904781e+08</td>\n",
       "      <td>-6.123850e+08</td>\n",
       "      <td>-5.727681e+08</td>\n",
       "      <td>-5.905210e+08</td>\n",
       "      <td>-5.928894e+08</td>\n",
       "      <td>1.284978e+07</td>\n",
       "    </tr>\n",
       "    <tr>\n",
       "      <th>2</th>\n",
       "      <td>0.799247</td>\n",
       "      <td>0.227518</td>\n",
       "      <td>0.035113</td>\n",
       "      <td>0.011395</td>\n",
       "      <td>2</td>\n",
       "      <td>30</td>\n",
       "      <td>NaN</td>\n",
       "      <td>{'max_features': 2, 'n_estimators': 30}</td>\n",
       "      <td>-2.801229e+09</td>\n",
       "      <td>-2.671474e+09</td>\n",
       "      <td>...</td>\n",
       "      <td>-2.796915e+09</td>\n",
       "      <td>7.980892e+07</td>\n",
       "      <td>9</td>\n",
       "      <td>-4.412567e+08</td>\n",
       "      <td>-4.326398e+08</td>\n",
       "      <td>-4.553722e+08</td>\n",
       "      <td>-4.320746e+08</td>\n",
       "      <td>-4.311606e+08</td>\n",
       "      <td>-4.385008e+08</td>\n",
       "      <td>9.184397e+06</td>\n",
       "    </tr>\n",
       "    <tr>\n",
       "      <th>3</th>\n",
       "      <td>0.246127</td>\n",
       "      <td>0.023330</td>\n",
       "      <td>0.008392</td>\n",
       "      <td>0.001354</td>\n",
       "      <td>4</td>\n",
       "      <td>3</td>\n",
       "      <td>NaN</td>\n",
       "      <td>{'max_features': 4, 'n_estimators': 3}</td>\n",
       "      <td>-3.528743e+09</td>\n",
       "      <td>-3.490303e+09</td>\n",
       "      <td>...</td>\n",
       "      <td>-3.609050e+09</td>\n",
       "      <td>1.375683e+08</td>\n",
       "      <td>16</td>\n",
       "      <td>-9.782368e+08</td>\n",
       "      <td>-9.806455e+08</td>\n",
       "      <td>-1.003780e+09</td>\n",
       "      <td>-1.016515e+09</td>\n",
       "      <td>-1.011270e+09</td>\n",
       "      <td>-9.980896e+08</td>\n",
       "      <td>1.577372e+07</td>\n",
       "    </tr>\n",
       "    <tr>\n",
       "      <th>4</th>\n",
       "      <td>0.440574</td>\n",
       "      <td>0.150774</td>\n",
       "      <td>0.012761</td>\n",
       "      <td>0.005127</td>\n",
       "      <td>4</td>\n",
       "      <td>10</td>\n",
       "      <td>NaN</td>\n",
       "      <td>{'max_features': 4, 'n_estimators': 10}</td>\n",
       "      <td>-2.742620e+09</td>\n",
       "      <td>-2.609311e+09</td>\n",
       "      <td>...</td>\n",
       "      <td>-2.755726e+09</td>\n",
       "      <td>1.182604e+08</td>\n",
       "      <td>7</td>\n",
       "      <td>-5.063215e+08</td>\n",
       "      <td>-5.257983e+08</td>\n",
       "      <td>-5.081984e+08</td>\n",
       "      <td>-5.174405e+08</td>\n",
       "      <td>-5.282066e+08</td>\n",
       "      <td>-5.171931e+08</td>\n",
       "      <td>8.882622e+06</td>\n",
       "    </tr>\n",
       "    <tr>\n",
       "      <th>5</th>\n",
       "      <td>1.191598</td>\n",
       "      <td>0.246708</td>\n",
       "      <td>0.033758</td>\n",
       "      <td>0.012053</td>\n",
       "      <td>4</td>\n",
       "      <td>30</td>\n",
       "      <td>NaN</td>\n",
       "      <td>{'max_features': 4, 'n_estimators': 30}</td>\n",
       "      <td>-2.522176e+09</td>\n",
       "      <td>-2.440241e+09</td>\n",
       "      <td>...</td>\n",
       "      <td>-2.518759e+09</td>\n",
       "      <td>8.488084e+07</td>\n",
       "      <td>3</td>\n",
       "      <td>-3.776568e+08</td>\n",
       "      <td>-3.902106e+08</td>\n",
       "      <td>-3.885042e+08</td>\n",
       "      <td>-3.830866e+08</td>\n",
       "      <td>-3.894779e+08</td>\n",
       "      <td>-3.857872e+08</td>\n",
       "      <td>4.774229e+06</td>\n",
       "    </tr>\n",
       "    <tr>\n",
       "      <th>6</th>\n",
       "      <td>0.156823</td>\n",
       "      <td>0.045793</td>\n",
       "      <td>0.002991</td>\n",
       "      <td>0.000020</td>\n",
       "      <td>6</td>\n",
       "      <td>3</td>\n",
       "      <td>NaN</td>\n",
       "      <td>{'max_features': 6, 'n_estimators': 3}</td>\n",
       "      <td>-3.362127e+09</td>\n",
       "      <td>-3.311863e+09</td>\n",
       "      <td>...</td>\n",
       "      <td>-3.371513e+09</td>\n",
       "      <td>1.378086e+08</td>\n",
       "      <td>13</td>\n",
       "      <td>-8.909397e+08</td>\n",
       "      <td>-9.583733e+08</td>\n",
       "      <td>-9.000201e+08</td>\n",
       "      <td>-8.964731e+08</td>\n",
       "      <td>-9.151927e+08</td>\n",
       "      <td>-9.121998e+08</td>\n",
       "      <td>2.444837e+07</td>\n",
       "    </tr>\n",
       "    <tr>\n",
       "      <th>7</th>\n",
       "      <td>0.463298</td>\n",
       "      <td>0.042151</td>\n",
       "      <td>0.011364</td>\n",
       "      <td>0.001493</td>\n",
       "      <td>6</td>\n",
       "      <td>10</td>\n",
       "      <td>NaN</td>\n",
       "      <td>{'max_features': 6, 'n_estimators': 10}</td>\n",
       "      <td>-2.622099e+09</td>\n",
       "      <td>-2.669655e+09</td>\n",
       "      <td>...</td>\n",
       "      <td>-2.654240e+09</td>\n",
       "      <td>6.967978e+07</td>\n",
       "      <td>5</td>\n",
       "      <td>-4.939906e+08</td>\n",
       "      <td>-5.145996e+08</td>\n",
       "      <td>-5.023512e+08</td>\n",
       "      <td>-4.959467e+08</td>\n",
       "      <td>-5.147087e+08</td>\n",
       "      <td>-5.043194e+08</td>\n",
       "      <td>8.880106e+06</td>\n",
       "    </tr>\n",
       "    <tr>\n",
       "      <th>8</th>\n",
       "      <td>1.400596</td>\n",
       "      <td>0.046506</td>\n",
       "      <td>0.028953</td>\n",
       "      <td>0.002268</td>\n",
       "      <td>6</td>\n",
       "      <td>30</td>\n",
       "      <td>NaN</td>\n",
       "      <td>{'max_features': 6, 'n_estimators': 30}</td>\n",
       "      <td>-2.446142e+09</td>\n",
       "      <td>-2.446594e+09</td>\n",
       "      <td>...</td>\n",
       "      <td>-2.496981e+09</td>\n",
       "      <td>7.357046e+07</td>\n",
       "      <td>2</td>\n",
       "      <td>-3.760968e+08</td>\n",
       "      <td>-3.876636e+08</td>\n",
       "      <td>-3.875307e+08</td>\n",
       "      <td>-3.760938e+08</td>\n",
       "      <td>-3.861056e+08</td>\n",
       "      <td>-3.826981e+08</td>\n",
       "      <td>5.418747e+06</td>\n",
       "    </tr>\n",
       "    <tr>\n",
       "      <th>9</th>\n",
       "      <td>0.171344</td>\n",
       "      <td>0.003860</td>\n",
       "      <td>0.003787</td>\n",
       "      <td>0.000397</td>\n",
       "      <td>8</td>\n",
       "      <td>3</td>\n",
       "      <td>NaN</td>\n",
       "      <td>{'max_features': 8, 'n_estimators': 3}</td>\n",
       "      <td>-3.590333e+09</td>\n",
       "      <td>-3.232664e+09</td>\n",
       "      <td>...</td>\n",
       "      <td>-3.468718e+09</td>\n",
       "      <td>1.293758e+08</td>\n",
       "      <td>14</td>\n",
       "      <td>-9.505012e+08</td>\n",
       "      <td>-9.166119e+08</td>\n",
       "      <td>-9.033910e+08</td>\n",
       "      <td>-9.070642e+08</td>\n",
       "      <td>-9.459386e+08</td>\n",
       "      <td>-9.247014e+08</td>\n",
       "      <td>1.973471e+07</td>\n",
       "    </tr>\n",
       "    <tr>\n",
       "      <th>10</th>\n",
       "      <td>0.777501</td>\n",
       "      <td>0.281115</td>\n",
       "      <td>0.014562</td>\n",
       "      <td>0.005697</td>\n",
       "      <td>8</td>\n",
       "      <td>10</td>\n",
       "      <td>NaN</td>\n",
       "      <td>{'max_features': 8, 'n_estimators': 10}</td>\n",
       "      <td>-2.721311e+09</td>\n",
       "      <td>-2.675886e+09</td>\n",
       "      <td>...</td>\n",
       "      <td>-2.752030e+09</td>\n",
       "      <td>6.258030e+07</td>\n",
       "      <td>6</td>\n",
       "      <td>-4.998373e+08</td>\n",
       "      <td>-4.997970e+08</td>\n",
       "      <td>-5.099880e+08</td>\n",
       "      <td>-5.047868e+08</td>\n",
       "      <td>-5.348043e+08</td>\n",
       "      <td>-5.098427e+08</td>\n",
       "      <td>1.303601e+07</td>\n",
       "    </tr>\n",
       "    <tr>\n",
       "      <th>11</th>\n",
       "      <td>2.671339</td>\n",
       "      <td>0.817825</td>\n",
       "      <td>0.040894</td>\n",
       "      <td>0.014802</td>\n",
       "      <td>8</td>\n",
       "      <td>30</td>\n",
       "      <td>NaN</td>\n",
       "      <td>{'max_features': 8, 'n_estimators': 30}</td>\n",
       "      <td>-2.492636e+09</td>\n",
       "      <td>-2.444818e+09</td>\n",
       "      <td>...</td>\n",
       "      <td>-2.489909e+09</td>\n",
       "      <td>7.086483e+07</td>\n",
       "      <td>1</td>\n",
       "      <td>-3.801679e+08</td>\n",
       "      <td>-3.832972e+08</td>\n",
       "      <td>-3.823818e+08</td>\n",
       "      <td>-3.778452e+08</td>\n",
       "      <td>-3.817589e+08</td>\n",
       "      <td>-3.810902e+08</td>\n",
       "      <td>1.916605e+06</td>\n",
       "    </tr>\n",
       "    <tr>\n",
       "      <th>12</th>\n",
       "      <td>0.117298</td>\n",
       "      <td>0.018112</td>\n",
       "      <td>0.005594</td>\n",
       "      <td>0.001333</td>\n",
       "      <td>2</td>\n",
       "      <td>3</td>\n",
       "      <td>False</td>\n",
       "      <td>{'bootstrap': False, 'max_features': 2, 'n_est...</td>\n",
       "      <td>-4.020842e+09</td>\n",
       "      <td>-3.951861e+09</td>\n",
       "      <td>...</td>\n",
       "      <td>-3.891485e+09</td>\n",
       "      <td>8.648595e+07</td>\n",
       "      <td>17</td>\n",
       "      <td>-0.000000e+00</td>\n",
       "      <td>-4.306828e+01</td>\n",
       "      <td>-1.051392e+04</td>\n",
       "      <td>-0.000000e+00</td>\n",
       "      <td>-0.000000e+00</td>\n",
       "      <td>-2.111398e+03</td>\n",
       "      <td>4.201294e+03</td>\n",
       "    </tr>\n",
       "    <tr>\n",
       "      <th>13</th>\n",
       "      <td>0.467768</td>\n",
       "      <td>0.164482</td>\n",
       "      <td>0.017354</td>\n",
       "      <td>0.006423</td>\n",
       "      <td>2</td>\n",
       "      <td>10</td>\n",
       "      <td>False</td>\n",
       "      <td>{'bootstrap': False, 'max_features': 2, 'n_est...</td>\n",
       "      <td>-2.901352e+09</td>\n",
       "      <td>-3.036875e+09</td>\n",
       "      <td>...</td>\n",
       "      <td>-2.967697e+09</td>\n",
       "      <td>4.582448e+07</td>\n",
       "      <td>10</td>\n",
       "      <td>-0.000000e+00</td>\n",
       "      <td>-3.876145e+00</td>\n",
       "      <td>-9.462528e+02</td>\n",
       "      <td>-0.000000e+00</td>\n",
       "      <td>-0.000000e+00</td>\n",
       "      <td>-1.900258e+02</td>\n",
       "      <td>3.781165e+02</td>\n",
       "    </tr>\n",
       "    <tr>\n",
       "      <th>14</th>\n",
       "      <td>0.320343</td>\n",
       "      <td>0.026830</td>\n",
       "      <td>0.009770</td>\n",
       "      <td>0.001598</td>\n",
       "      <td>3</td>\n",
       "      <td>3</td>\n",
       "      <td>False</td>\n",
       "      <td>{'bootstrap': False, 'max_features': 3, 'n_est...</td>\n",
       "      <td>-3.687132e+09</td>\n",
       "      <td>-3.446245e+09</td>\n",
       "      <td>...</td>\n",
       "      <td>-3.596953e+09</td>\n",
       "      <td>8.011960e+07</td>\n",
       "      <td>15</td>\n",
       "      <td>-0.000000e+00</td>\n",
       "      <td>-0.000000e+00</td>\n",
       "      <td>-0.000000e+00</td>\n",
       "      <td>-0.000000e+00</td>\n",
       "      <td>-0.000000e+00</td>\n",
       "      <td>0.000000e+00</td>\n",
       "      <td>0.000000e+00</td>\n",
       "    </tr>\n",
       "    <tr>\n",
       "      <th>15</th>\n",
       "      <td>0.674487</td>\n",
       "      <td>0.230454</td>\n",
       "      <td>0.017354</td>\n",
       "      <td>0.004072</td>\n",
       "      <td>3</td>\n",
       "      <td>10</td>\n",
       "      <td>False</td>\n",
       "      <td>{'bootstrap': False, 'max_features': 3, 'n_est...</td>\n",
       "      <td>-2.837028e+09</td>\n",
       "      <td>-2.619558e+09</td>\n",
       "      <td>...</td>\n",
       "      <td>-2.783044e+09</td>\n",
       "      <td>8.862580e+07</td>\n",
       "      <td>8</td>\n",
       "      <td>-0.000000e+00</td>\n",
       "      <td>-0.000000e+00</td>\n",
       "      <td>-0.000000e+00</td>\n",
       "      <td>-0.000000e+00</td>\n",
       "      <td>-0.000000e+00</td>\n",
       "      <td>0.000000e+00</td>\n",
       "      <td>0.000000e+00</td>\n",
       "    </tr>\n",
       "    <tr>\n",
       "      <th>16</th>\n",
       "      <td>0.163733</td>\n",
       "      <td>0.003365</td>\n",
       "      <td>0.004191</td>\n",
       "      <td>0.001165</td>\n",
       "      <td>4</td>\n",
       "      <td>3</td>\n",
       "      <td>False</td>\n",
       "      <td>{'bootstrap': False, 'max_features': 4, 'n_est...</td>\n",
       "      <td>-3.549428e+09</td>\n",
       "      <td>-3.318176e+09</td>\n",
       "      <td>...</td>\n",
       "      <td>-3.344440e+09</td>\n",
       "      <td>1.099355e+08</td>\n",
       "      <td>12</td>\n",
       "      <td>-0.000000e+00</td>\n",
       "      <td>-0.000000e+00</td>\n",
       "      <td>-0.000000e+00</td>\n",
       "      <td>-0.000000e+00</td>\n",
       "      <td>-0.000000e+00</td>\n",
       "      <td>0.000000e+00</td>\n",
       "      <td>0.000000e+00</td>\n",
       "    </tr>\n",
       "    <tr>\n",
       "      <th>17</th>\n",
       "      <td>0.580135</td>\n",
       "      <td>0.048134</td>\n",
       "      <td>0.014161</td>\n",
       "      <td>0.002562</td>\n",
       "      <td>4</td>\n",
       "      <td>10</td>\n",
       "      <td>False</td>\n",
       "      <td>{'bootstrap': False, 'max_features': 4, 'n_est...</td>\n",
       "      <td>-2.692499e+09</td>\n",
       "      <td>-2.542704e+09</td>\n",
       "      <td>...</td>\n",
       "      <td>-2.629472e+09</td>\n",
       "      <td>8.510266e+07</td>\n",
       "      <td>4</td>\n",
       "      <td>-0.000000e+00</td>\n",
       "      <td>-0.000000e+00</td>\n",
       "      <td>-0.000000e+00</td>\n",
       "      <td>-0.000000e+00</td>\n",
       "      <td>-0.000000e+00</td>\n",
       "      <td>0.000000e+00</td>\n",
       "      <td>0.000000e+00</td>\n",
       "    </tr>\n",
       "  </tbody>\n",
       "</table>\n",
       "<p>18 rows × 23 columns</p>\n",
       "</div>"
      ],
      "text/plain": [
       "    mean_fit_time  std_fit_time  mean_score_time  std_score_time  \\\n",
       "0        0.086396      0.022200         0.004397        0.001484   \n",
       "1        0.222225      0.021227         0.009960        0.000877   \n",
       "2        0.799247      0.227518         0.035113        0.011395   \n",
       "3        0.246127      0.023330         0.008392        0.001354   \n",
       "4        0.440574      0.150774         0.012761        0.005127   \n",
       "5        1.191598      0.246708         0.033758        0.012053   \n",
       "6        0.156823      0.045793         0.002991        0.000020   \n",
       "7        0.463298      0.042151         0.011364        0.001493   \n",
       "8        1.400596      0.046506         0.028953        0.002268   \n",
       "9        0.171344      0.003860         0.003787        0.000397   \n",
       "10       0.777501      0.281115         0.014562        0.005697   \n",
       "11       2.671339      0.817825         0.040894        0.014802   \n",
       "12       0.117298      0.018112         0.005594        0.001333   \n",
       "13       0.467768      0.164482         0.017354        0.006423   \n",
       "14       0.320343      0.026830         0.009770        0.001598   \n",
       "15       0.674487      0.230454         0.017354        0.004072   \n",
       "16       0.163733      0.003365         0.004191        0.001165   \n",
       "17       0.580135      0.048134         0.014161        0.002562   \n",
       "\n",
       "   param_max_features param_n_estimators param_bootstrap  \\\n",
       "0                   2                  3             NaN   \n",
       "1                   2                 10             NaN   \n",
       "2                   2                 30             NaN   \n",
       "3                   4                  3             NaN   \n",
       "4                   4                 10             NaN   \n",
       "5                   4                 30             NaN   \n",
       "6                   6                  3             NaN   \n",
       "7                   6                 10             NaN   \n",
       "8                   6                 30             NaN   \n",
       "9                   8                  3             NaN   \n",
       "10                  8                 10             NaN   \n",
       "11                  8                 30             NaN   \n",
       "12                  2                  3           False   \n",
       "13                  2                 10           False   \n",
       "14                  3                  3           False   \n",
       "15                  3                 10           False   \n",
       "16                  4                  3           False   \n",
       "17                  4                 10           False   \n",
       "\n",
       "                                               params  split0_test_score  \\\n",
       "0              {'max_features': 2, 'n_estimators': 3}      -4.119912e+09   \n",
       "1             {'max_features': 2, 'n_estimators': 10}      -2.973521e+09   \n",
       "2             {'max_features': 2, 'n_estimators': 30}      -2.801229e+09   \n",
       "3              {'max_features': 4, 'n_estimators': 3}      -3.528743e+09   \n",
       "4             {'max_features': 4, 'n_estimators': 10}      -2.742620e+09   \n",
       "5             {'max_features': 4, 'n_estimators': 30}      -2.522176e+09   \n",
       "6              {'max_features': 6, 'n_estimators': 3}      -3.362127e+09   \n",
       "7             {'max_features': 6, 'n_estimators': 10}      -2.622099e+09   \n",
       "8             {'max_features': 6, 'n_estimators': 30}      -2.446142e+09   \n",
       "9              {'max_features': 8, 'n_estimators': 3}      -3.590333e+09   \n",
       "10            {'max_features': 8, 'n_estimators': 10}      -2.721311e+09   \n",
       "11            {'max_features': 8, 'n_estimators': 30}      -2.492636e+09   \n",
       "12  {'bootstrap': False, 'max_features': 2, 'n_est...      -4.020842e+09   \n",
       "13  {'bootstrap': False, 'max_features': 2, 'n_est...      -2.901352e+09   \n",
       "14  {'bootstrap': False, 'max_features': 3, 'n_est...      -3.687132e+09   \n",
       "15  {'bootstrap': False, 'max_features': 3, 'n_est...      -2.837028e+09   \n",
       "16  {'bootstrap': False, 'max_features': 4, 'n_est...      -3.549428e+09   \n",
       "17  {'bootstrap': False, 'max_features': 4, 'n_est...      -2.692499e+09   \n",
       "\n",
       "    split1_test_score  ...  mean_test_score  std_test_score  rank_test_score  \\\n",
       "0       -3.723465e+09  ...    -4.082592e+09    1.867375e+08               18   \n",
       "1       -2.810319e+09  ...    -3.015803e+09    1.139808e+08               11   \n",
       "2       -2.671474e+09  ...    -2.796915e+09    7.980892e+07                9   \n",
       "3       -3.490303e+09  ...    -3.609050e+09    1.375683e+08               16   \n",
       "4       -2.609311e+09  ...    -2.755726e+09    1.182604e+08                7   \n",
       "5       -2.440241e+09  ...    -2.518759e+09    8.488084e+07                3   \n",
       "6       -3.311863e+09  ...    -3.371513e+09    1.378086e+08               13   \n",
       "7       -2.669655e+09  ...    -2.654240e+09    6.967978e+07                5   \n",
       "8       -2.446594e+09  ...    -2.496981e+09    7.357046e+07                2   \n",
       "9       -3.232664e+09  ...    -3.468718e+09    1.293758e+08               14   \n",
       "10      -2.675886e+09  ...    -2.752030e+09    6.258030e+07                6   \n",
       "11      -2.444818e+09  ...    -2.489909e+09    7.086483e+07                1   \n",
       "12      -3.951861e+09  ...    -3.891485e+09    8.648595e+07               17   \n",
       "13      -3.036875e+09  ...    -2.967697e+09    4.582448e+07               10   \n",
       "14      -3.446245e+09  ...    -3.596953e+09    8.011960e+07               15   \n",
       "15      -2.619558e+09  ...    -2.783044e+09    8.862580e+07                8   \n",
       "16      -3.318176e+09  ...    -3.344440e+09    1.099355e+08               12   \n",
       "17      -2.542704e+09  ...    -2.629472e+09    8.510266e+07                4   \n",
       "\n",
       "    split0_train_score  split1_train_score  split2_train_score  \\\n",
       "0        -1.155630e+09       -1.089726e+09       -1.153843e+09   \n",
       "1        -5.982947e+08       -5.904781e+08       -6.123850e+08   \n",
       "2        -4.412567e+08       -4.326398e+08       -4.553722e+08   \n",
       "3        -9.782368e+08       -9.806455e+08       -1.003780e+09   \n",
       "4        -5.063215e+08       -5.257983e+08       -5.081984e+08   \n",
       "5        -3.776568e+08       -3.902106e+08       -3.885042e+08   \n",
       "6        -8.909397e+08       -9.583733e+08       -9.000201e+08   \n",
       "7        -4.939906e+08       -5.145996e+08       -5.023512e+08   \n",
       "8        -3.760968e+08       -3.876636e+08       -3.875307e+08   \n",
       "9        -9.505012e+08       -9.166119e+08       -9.033910e+08   \n",
       "10       -4.998373e+08       -4.997970e+08       -5.099880e+08   \n",
       "11       -3.801679e+08       -3.832972e+08       -3.823818e+08   \n",
       "12       -0.000000e+00       -4.306828e+01       -1.051392e+04   \n",
       "13       -0.000000e+00       -3.876145e+00       -9.462528e+02   \n",
       "14       -0.000000e+00       -0.000000e+00       -0.000000e+00   \n",
       "15       -0.000000e+00       -0.000000e+00       -0.000000e+00   \n",
       "16       -0.000000e+00       -0.000000e+00       -0.000000e+00   \n",
       "17       -0.000000e+00       -0.000000e+00       -0.000000e+00   \n",
       "\n",
       "    split3_train_score  split4_train_score  mean_train_score  std_train_score  \n",
       "0        -1.118149e+09       -1.093446e+09     -1.122159e+09     2.834288e+07  \n",
       "1        -5.727681e+08       -5.905210e+08     -5.928894e+08     1.284978e+07  \n",
       "2        -4.320746e+08       -4.311606e+08     -4.385008e+08     9.184397e+06  \n",
       "3        -1.016515e+09       -1.011270e+09     -9.980896e+08     1.577372e+07  \n",
       "4        -5.174405e+08       -5.282066e+08     -5.171931e+08     8.882622e+06  \n",
       "5        -3.830866e+08       -3.894779e+08     -3.857872e+08     4.774229e+06  \n",
       "6        -8.964731e+08       -9.151927e+08     -9.121998e+08     2.444837e+07  \n",
       "7        -4.959467e+08       -5.147087e+08     -5.043194e+08     8.880106e+06  \n",
       "8        -3.760938e+08       -3.861056e+08     -3.826981e+08     5.418747e+06  \n",
       "9        -9.070642e+08       -9.459386e+08     -9.247014e+08     1.973471e+07  \n",
       "10       -5.047868e+08       -5.348043e+08     -5.098427e+08     1.303601e+07  \n",
       "11       -3.778452e+08       -3.817589e+08     -3.810902e+08     1.916605e+06  \n",
       "12       -0.000000e+00       -0.000000e+00     -2.111398e+03     4.201294e+03  \n",
       "13       -0.000000e+00       -0.000000e+00     -1.900258e+02     3.781165e+02  \n",
       "14       -0.000000e+00       -0.000000e+00      0.000000e+00     0.000000e+00  \n",
       "15       -0.000000e+00       -0.000000e+00      0.000000e+00     0.000000e+00  \n",
       "16       -0.000000e+00       -0.000000e+00      0.000000e+00     0.000000e+00  \n",
       "17       -0.000000e+00       -0.000000e+00      0.000000e+00     0.000000e+00  \n",
       "\n",
       "[18 rows x 23 columns]"
      ]
     },
     "execution_count": 48,
     "metadata": {},
     "output_type": "execute_result"
    }
   ],
   "source": [
    "pd.DataFrame(grid_search.cv_results_)"
   ]
  },
  {
   "cell_type": "code",
   "execution_count": 49,
   "metadata": {},
   "outputs": [
    {
     "data": {
      "text/plain": [
       "RandomizedSearchCV(cv=5, estimator=RandomForestRegressor(random_state=42),\n",
       "                   param_distributions={'max_features': <scipy.stats._distn_infrastructure.rv_frozen object at 0x0000026EC788AD00>,\n",
       "                                        'n_estimators': <scipy.stats._distn_infrastructure.rv_frozen object at 0x0000026EC7F71580>},\n",
       "                   random_state=42, scoring='neg_mean_squared_error')"
      ]
     },
     "execution_count": 49,
     "metadata": {},
     "output_type": "execute_result"
    }
   ],
   "source": [
    "from sklearn.model_selection import RandomizedSearchCV\n",
    "from scipy.stats import randint\n",
    "\n",
    "param_distribs = {\n",
    "        'n_estimators': randint(low=1, high=200),\n",
    "        'max_features': randint(low=1, high=8),\n",
    "    }\n",
    "\n",
    "forest_reg = RandomForestRegressor(random_state=42)\n",
    "rnd_search = RandomizedSearchCV(forest_reg, param_distributions=param_distribs,\n",
    "                                n_iter=10, cv=5, scoring='neg_mean_squared_error', random_state=42)\n",
    "rnd_search.fit(housing_prepared, df_housing_labels)"
   ]
  },
  {
   "cell_type": "code",
   "execution_count": 50,
   "metadata": {},
   "outputs": [
    {
     "name": "stdout",
     "output_type": "stream",
     "text": [
      "49117.55344336652 {'max_features': 7, 'n_estimators': 180}\n",
      "51450.63202856348 {'max_features': 5, 'n_estimators': 15}\n",
      "50692.53588182537 {'max_features': 3, 'n_estimators': 72}\n",
      "50783.614493515 {'max_features': 5, 'n_estimators': 21}\n",
      "49162.89877456354 {'max_features': 7, 'n_estimators': 122}\n",
      "50655.798471042704 {'max_features': 3, 'n_estimators': 75}\n",
      "50513.856319990606 {'max_features': 3, 'n_estimators': 88}\n",
      "49521.17201976928 {'max_features': 5, 'n_estimators': 100}\n",
      "50302.90440763418 {'max_features': 3, 'n_estimators': 150}\n",
      "65167.02018649492 {'max_features': 5, 'n_estimators': 2}\n"
     ]
    }
   ],
   "source": [
    "cvres = rnd_search.cv_results_\n",
    "for mean_score, params in zip(cvres[\"mean_test_score\"], cvres[\"params\"]):\n",
    "    print(np.sqrt(-mean_score), params)\n"
   ]
  },
  {
   "cell_type": "code",
   "execution_count": 51,
   "metadata": {},
   "outputs": [
    {
     "data": {
      "text/plain": [
       "array([6.96542523e-02, 6.04213840e-02, 4.21882202e-02, 1.52450557e-02,\n",
       "       1.55545295e-02, 1.58491147e-02, 1.49346552e-02, 3.79009225e-01,\n",
       "       5.47789150e-02, 1.07031322e-01, 4.82031213e-02, 6.79266007e-03,\n",
       "       1.65706303e-01, 7.83480660e-05, 1.52473276e-03, 3.02816106e-03])"
      ]
     },
     "execution_count": 51,
     "metadata": {},
     "output_type": "execute_result"
    }
   ],
   "source": [
    "feature_importances = grid_search.best_estimator_.feature_importances_\n",
    "feature_importances"
   ]
  },
  {
   "cell_type": "code",
   "execution_count": 52,
   "metadata": {},
   "outputs": [
    {
     "data": {
      "text/plain": [
       "[(0.3790092248170967, 'median_income'),\n",
       " (0.16570630316895876, 'INLAND'),\n",
       " (0.10703132208204355, 'pop_per_hhold'),\n",
       " (0.06965425227942929, 'longitude'),\n",
       " (0.0604213840080722, 'latitude'),\n",
       " (0.054778915018283726, 'rooms_per_hhold'),\n",
       " (0.048203121338269206, 'bedrooms_per_room'),\n",
       " (0.04218822024391753, 'housing_median_age'),\n",
       " (0.015849114744428634, 'population'),\n",
       " (0.015554529490469328, 'total_bedrooms'),\n",
       " (0.01524505568840977, 'total_rooms'),\n",
       " (0.014934655161887772, 'households'),\n",
       " (0.006792660074259966, '<1H OCEAN'),\n",
       " (0.0030281610628962747, 'NEAR OCEAN'),\n",
       " (0.0015247327555504937, 'NEAR BAY'),\n",
       " (7.834806602687504e-05, 'ISLAND')]"
      ]
     },
     "execution_count": 52,
     "metadata": {},
     "output_type": "execute_result"
    }
   ],
   "source": [
    "extra_attribs = [\"rooms_per_hhold\", \"pop_per_hhold\", \"bedrooms_per_room\"]\n",
    "cat_encoder = full_pipeline.named_transformers_[\"cat\"]\n",
    "cat_one_hot_attribs = list(cat_encoder.categories_[0])\n",
    "attributes = num_attribs + extra_attribs + cat_one_hot_attribs\n",
    "sorted(zip(feature_importances, attributes), reverse=True)"
   ]
  },
  {
   "cell_type": "code",
   "execution_count": 53,
   "metadata": {},
   "outputs": [],
   "source": [
    "final_model = grid_search.best_estimator_\n",
    "\n",
    "X_test = strat_test_set.drop(\"median_house_value\", axis=1)\n",
    "y_test = strat_test_set[\"median_house_value\"].copy()\n",
    "\n",
    "X_test_prepared = full_pipeline.transform(X_test)\n",
    "final_predictions = final_model.predict(X_test_prepared)\n",
    "\n",
    "final_mse = mean_squared_error(y_test, final_predictions)\n",
    "final_rmse = np.sqrt(final_mse)"
   ]
  },
  {
   "cell_type": "code",
   "execution_count": 54,
   "metadata": {},
   "outputs": [
    {
     "data": {
      "text/plain": [
       "47873.26095812988"
      ]
     },
     "execution_count": 54,
     "metadata": {},
     "output_type": "execute_result"
    }
   ],
   "source": [
    "final_rmse"
   ]
  },
  {
   "cell_type": "code",
   "execution_count": 55,
   "metadata": {},
   "outputs": [
    {
     "data": {
      "text/plain": [
       "array([45893.36082829, 49774.46796717])"
      ]
     },
     "execution_count": 55,
     "metadata": {},
     "output_type": "execute_result"
    }
   ],
   "source": [
    "from scipy import stats\n",
    "\n",
    "confidence = 0.95\n",
    "squared_errors = (final_predictions - y_test) ** 2\n",
    "np.sqrt(stats.t.interval(confidence, len(squared_errors) - 1,\n",
    "                         loc=squared_errors.mean(),\n",
    "                         scale=stats.sem(squared_errors)))"
   ]
  },
  {
   "cell_type": "code",
   "execution_count": 56,
   "metadata": {},
   "outputs": [
    {
     "data": {
      "text/plain": [
       "array([45893.36082829, 49774.46796717])"
      ]
     },
     "execution_count": 56,
     "metadata": {},
     "output_type": "execute_result"
    }
   ],
   "source": [
    "from scipy import stats\n",
    "\n",
    "confidence = 0.95\n",
    "squared_errors = (final_predictions - y_test) ** 2\n",
    "np.sqrt(stats.t.interval(confidence, len(squared_errors) - 1,\n",
    "                         loc=squared_errors.mean(),\n",
    "                         scale=stats.sem(squared_errors)))"
   ]
  },
  {
   "cell_type": "code",
   "execution_count": 59,
   "metadata": {},
   "outputs": [
    {
     "data": {
      "text/plain": [
       "(45893.360828285535, 49774.46796717361)"
      ]
     },
     "execution_count": 59,
     "metadata": {},
     "output_type": "execute_result"
    }
   ],
   "source": [
    "m = len(squared_errors)\n",
    "mean = squared_errors.mean()\n",
    "tscore = stats.t.ppf((1 + confidence) / 2, df=m - 1)\n",
    "tmargin = tscore * squared_errors.std(ddof=1) / np.sqrt(m)\n",
    "np.sqrt(mean - tmargin), np.sqrt(mean + tmargin)"
   ]
  },
  {
   "cell_type": "code",
   "execution_count": 60,
   "metadata": {},
   "outputs": [
    {
     "data": {
      "text/plain": [
       "(45893.9540110131, 49773.921030650374)"
      ]
     },
     "execution_count": 60,
     "metadata": {},
     "output_type": "execute_result"
    }
   ],
   "source": [
    "zscore = stats.norm.ppf((1 + confidence) / 2)\n",
    "zmargin = zscore * squared_errors.std(ddof=1) / np.sqrt(m)\n",
    "np.sqrt(mean - zmargin), np.sqrt(mean + zmargin)"
   ]
  },
  {
   "cell_type": "code",
   "execution_count": 61,
   "metadata": {},
   "outputs": [
    {
     "data": {
      "text/plain": [
       "array([ 85657.90192014, 305492.60737488, 152056.46122456, 186095.70946094,\n",
       "       244550.67966089])"
      ]
     },
     "execution_count": 61,
     "metadata": {},
     "output_type": "execute_result"
    }
   ],
   "source": [
    "full_pipeline_with_predictor = Pipeline([\n",
    "        (\"preparation\", full_pipeline),\n",
    "        (\"linear\", LinearRegression())\n",
    "    ])\n",
    "\n",
    "full_pipeline_with_predictor.fit(df_housing, df_housing_labels)\n",
    "full_pipeline_with_predictor.predict(some_data)"
   ]
  },
  {
   "cell_type": "code",
   "execution_count": 62,
   "metadata": {},
   "outputs": [
    {
     "data": {
      "image/png": "[encoded data removed]",
      "text/plain": [
       "<Figure size 432x288 with 1 Axes>"
      ]
     },
     "metadata": {
      "needs_background": "light"
     },
     "output_type": "display_data"
    },
    {
     "data": {
      "image/png": "[encoded data removed]",
      "text/plain": [
       "<Figure size 432x288 with 1 Axes>"
      ]
     },
     "metadata": {
      "needs_background": "light"
     },
     "output_type": "display_data"
    }
   ],
   "source": [
    "from scipy.stats import geom, expon\n",
    "geom_distrib=geom(0.5).rvs(10000, random_state=42)\n",
    "expon_distrib=expon(scale=1).rvs(10000, random_state=42)\n",
    "plt.hist(geom_distrib, bins=50)\n",
    "plt.show()\n",
    "plt.hist(expon_distrib, bins=50)\n",
    "plt.show()"
   ]
  }
 ],
 "metadata": {
  "kernelspec": {
   "display_name": "Python 3",
   "language": "python",
   "name": "python3"
  },
  "language_info": {
   "codemirror_mode": {
    "name": "ipython",
    "version": 3
   },
   "file_extension": ".py",
   "mimetype": "text/x-python",
   "name": "python",
   "nbconvert_exporter": "python",
   "pygments_lexer": "ipython3",
   "version": "3.8.10"
  },
  "orig_nbformat": 4,
  "vscode": {
   "interpreter": {
    "hash": "84aa361dc03af9f972324ef6cf6aceb4cafe779b49f49a96b4c6f61010530933"
   }
  }
 },
 "nbformat": 4,
 "nbformat_minor": 2
}
